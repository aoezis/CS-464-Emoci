{
  "nbformat": 4,
  "nbformat_minor": 0,
  "metadata": {
    "accelerator": "GPU",
    "colab": {
      "name": "RNN",
      "provenance": [],
      "collapsed_sections": [],
      "machine_shape": "hm"
    },
    "kernelspec": {
      "display_name": "Python 3",
      "name": "python3"
    },
    "widgets": {
      "application/vnd.jupyter.widget-state+json": {
        "e8eae45d46094fe7b34f90923b83dcca": {
          "model_module": "@jupyter-widgets/controls",
          "model_name": "HBoxModel",
          "state": {
            "_view_name": "HBoxView",
            "_dom_classes": [],
            "_model_name": "HBoxModel",
            "_view_module": "@jupyter-widgets/controls",
            "_model_module_version": "1.5.0",
            "_view_count": null,
            "_view_module_version": "1.5.0",
            "box_style": "",
            "layout": "IPY_MODEL_7151b47b62984912947e114c5ee3ee6f",
            "_model_module": "@jupyter-widgets/controls",
            "children": [
              "IPY_MODEL_45ac937d3ce84b68a79ef6fbd5392010",
              "IPY_MODEL_500384cbcdaf4c1da926f981e8b9068e"
            ]
          }
        },
        "7151b47b62984912947e114c5ee3ee6f": {
          "model_module": "@jupyter-widgets/base",
          "model_name": "LayoutModel",
          "state": {
            "_view_name": "LayoutView",
            "grid_template_rows": null,
            "right": null,
            "justify_content": null,
            "_view_module": "@jupyter-widgets/base",
            "overflow": null,
            "_model_module_version": "1.2.0",
            "_view_count": null,
            "flex_flow": null,
            "width": null,
            "min_width": null,
            "border": null,
            "align_items": null,
            "bottom": null,
            "_model_module": "@jupyter-widgets/base",
            "top": null,
            "grid_column": null,
            "overflow_y": null,
            "overflow_x": null,
            "grid_auto_flow": null,
            "grid_area": null,
            "grid_template_columns": null,
            "flex": null,
            "_model_name": "LayoutModel",
            "justify_items": null,
            "grid_row": null,
            "max_height": null,
            "align_content": null,
            "visibility": null,
            "align_self": null,
            "height": null,
            "min_height": null,
            "padding": null,
            "grid_auto_rows": null,
            "grid_gap": null,
            "max_width": null,
            "order": null,
            "_view_module_version": "1.2.0",
            "grid_template_areas": null,
            "object_position": null,
            "object_fit": null,
            "grid_auto_columns": null,
            "margin": null,
            "display": null,
            "left": null
          }
        },
        "45ac937d3ce84b68a79ef6fbd5392010": {
          "model_module": "@jupyter-widgets/controls",
          "model_name": "FloatProgressModel",
          "state": {
            "_view_name": "ProgressView",
            "style": "IPY_MODEL_caacd469089642b6ae5c360773864f43",
            "_dom_classes": [],
            "description": "100%",
            "_model_name": "FloatProgressModel",
            "bar_style": "success",
            "max": 574075,
            "_view_module": "@jupyter-widgets/controls",
            "_model_module_version": "1.5.0",
            "value": 574075,
            "_view_count": null,
            "_view_module_version": "1.5.0",
            "orientation": "horizontal",
            "min": 0,
            "description_tooltip": null,
            "_model_module": "@jupyter-widgets/controls",
            "layout": "IPY_MODEL_a4b6bf34bd1942ce8416e76dfe5bc728"
          }
        },
        "500384cbcdaf4c1da926f981e8b9068e": {
          "model_module": "@jupyter-widgets/controls",
          "model_name": "HTMLModel",
          "state": {
            "_view_name": "HTMLView",
            "style": "IPY_MODEL_5b7f91d4da4d4d58bd23a8ed2ef3e1c8",
            "_dom_classes": [],
            "description": "",
            "_model_name": "HTMLModel",
            "placeholder": "​",
            "_view_module": "@jupyter-widgets/controls",
            "_model_module_version": "1.5.0",
            "value": " 574075/574075 [00:08&lt;00:00, 67196.81it/s]",
            "_view_count": null,
            "_view_module_version": "1.5.0",
            "description_tooltip": null,
            "_model_module": "@jupyter-widgets/controls",
            "layout": "IPY_MODEL_ea6de2e66f5c4ea497e12194495ae93d"
          }
        },
        "caacd469089642b6ae5c360773864f43": {
          "model_module": "@jupyter-widgets/controls",
          "model_name": "ProgressStyleModel",
          "state": {
            "_view_name": "StyleView",
            "_model_name": "ProgressStyleModel",
            "description_width": "initial",
            "_view_module": "@jupyter-widgets/base",
            "_model_module_version": "1.5.0",
            "_view_count": null,
            "_view_module_version": "1.2.0",
            "bar_color": null,
            "_model_module": "@jupyter-widgets/controls"
          }
        },
        "a4b6bf34bd1942ce8416e76dfe5bc728": {
          "model_module": "@jupyter-widgets/base",
          "model_name": "LayoutModel",
          "state": {
            "_view_name": "LayoutView",
            "grid_template_rows": null,
            "right": null,
            "justify_content": null,
            "_view_module": "@jupyter-widgets/base",
            "overflow": null,
            "_model_module_version": "1.2.0",
            "_view_count": null,
            "flex_flow": null,
            "width": null,
            "min_width": null,
            "border": null,
            "align_items": null,
            "bottom": null,
            "_model_module": "@jupyter-widgets/base",
            "top": null,
            "grid_column": null,
            "overflow_y": null,
            "overflow_x": null,
            "grid_auto_flow": null,
            "grid_area": null,
            "grid_template_columns": null,
            "flex": null,
            "_model_name": "LayoutModel",
            "justify_items": null,
            "grid_row": null,
            "max_height": null,
            "align_content": null,
            "visibility": null,
            "align_self": null,
            "height": null,
            "min_height": null,
            "padding": null,
            "grid_auto_rows": null,
            "grid_gap": null,
            "max_width": null,
            "order": null,
            "_view_module_version": "1.2.0",
            "grid_template_areas": null,
            "object_position": null,
            "object_fit": null,
            "grid_auto_columns": null,
            "margin": null,
            "display": null,
            "left": null
          }
        },
        "5b7f91d4da4d4d58bd23a8ed2ef3e1c8": {
          "model_module": "@jupyter-widgets/controls",
          "model_name": "DescriptionStyleModel",
          "state": {
            "_view_name": "StyleView",
            "_model_name": "DescriptionStyleModel",
            "description_width": "",
            "_view_module": "@jupyter-widgets/base",
            "_model_module_version": "1.5.0",
            "_view_count": null,
            "_view_module_version": "1.2.0",
            "_model_module": "@jupyter-widgets/controls"
          }
        },
        "ea6de2e66f5c4ea497e12194495ae93d": {
          "model_module": "@jupyter-widgets/base",
          "model_name": "LayoutModel",
          "state": {
            "_view_name": "LayoutView",
            "grid_template_rows": null,
            "right": null,
            "justify_content": null,
            "_view_module": "@jupyter-widgets/base",
            "overflow": null,
            "_model_module_version": "1.2.0",
            "_view_count": null,
            "flex_flow": null,
            "width": null,
            "min_width": null,
            "border": null,
            "align_items": null,
            "bottom": null,
            "_model_module": "@jupyter-widgets/base",
            "top": null,
            "grid_column": null,
            "overflow_y": null,
            "overflow_x": null,
            "grid_auto_flow": null,
            "grid_area": null,
            "grid_template_columns": null,
            "flex": null,
            "_model_name": "LayoutModel",
            "justify_items": null,
            "grid_row": null,
            "max_height": null,
            "align_content": null,
            "visibility": null,
            "align_self": null,
            "height": null,
            "min_height": null,
            "padding": null,
            "grid_auto_rows": null,
            "grid_gap": null,
            "max_width": null,
            "order": null,
            "_view_module_version": "1.2.0",
            "grid_template_areas": null,
            "object_position": null,
            "object_fit": null,
            "grid_auto_columns": null,
            "margin": null,
            "display": null,
            "left": null
          }
        },
        "945a2693937b42d9a14e5b4014000a6c": {
          "model_module": "@jupyter-widgets/controls",
          "model_name": "HBoxModel",
          "state": {
            "_view_name": "HBoxView",
            "_dom_classes": [],
            "_model_name": "HBoxModel",
            "_view_module": "@jupyter-widgets/controls",
            "_model_module_version": "1.5.0",
            "_view_count": null,
            "_view_module_version": "1.5.0",
            "box_style": "",
            "layout": "IPY_MODEL_c8e496fa2cae472581e69ebcce21de39",
            "_model_module": "@jupyter-widgets/controls",
            "children": [
              "IPY_MODEL_6b3d04bc2f0d4c2181670b893922515f",
              "IPY_MODEL_ff20e76aa8d742d789b1adfa1a25e179"
            ]
          }
        },
        "c8e496fa2cae472581e69ebcce21de39": {
          "model_module": "@jupyter-widgets/base",
          "model_name": "LayoutModel",
          "state": {
            "_view_name": "LayoutView",
            "grid_template_rows": null,
            "right": null,
            "justify_content": null,
            "_view_module": "@jupyter-widgets/base",
            "overflow": null,
            "_model_module_version": "1.2.0",
            "_view_count": null,
            "flex_flow": null,
            "width": null,
            "min_width": null,
            "border": null,
            "align_items": null,
            "bottom": null,
            "_model_module": "@jupyter-widgets/base",
            "top": null,
            "grid_column": null,
            "overflow_y": null,
            "overflow_x": null,
            "grid_auto_flow": null,
            "grid_area": null,
            "grid_template_columns": null,
            "flex": null,
            "_model_name": "LayoutModel",
            "justify_items": null,
            "grid_row": null,
            "max_height": null,
            "align_content": null,
            "visibility": null,
            "align_self": null,
            "height": null,
            "min_height": null,
            "padding": null,
            "grid_auto_rows": null,
            "grid_gap": null,
            "max_width": null,
            "order": null,
            "_view_module_version": "1.2.0",
            "grid_template_areas": null,
            "object_position": null,
            "object_fit": null,
            "grid_auto_columns": null,
            "margin": null,
            "display": null,
            "left": null
          }
        },
        "6b3d04bc2f0d4c2181670b893922515f": {
          "model_module": "@jupyter-widgets/controls",
          "model_name": "FloatProgressModel",
          "state": {
            "_view_name": "ProgressView",
            "style": "IPY_MODEL_91646804d24e49c28740936f19914aa2",
            "_dom_classes": [],
            "description": "100%",
            "_model_name": "FloatProgressModel",
            "bar_style": "success",
            "max": 180309,
            "_view_module": "@jupyter-widgets/controls",
            "_model_module_version": "1.5.0",
            "value": 180309,
            "_view_count": null,
            "_view_module_version": "1.5.0",
            "orientation": "horizontal",
            "min": 0,
            "description_tooltip": null,
            "_model_module": "@jupyter-widgets/controls",
            "layout": "IPY_MODEL_cc8883e3d0af452aa35416dd7b770a9f"
          }
        },
        "ff20e76aa8d742d789b1adfa1a25e179": {
          "model_module": "@jupyter-widgets/controls",
          "model_name": "HTMLModel",
          "state": {
            "_view_name": "HTMLView",
            "style": "IPY_MODEL_07d2118ed92b43fbb6de4c136ca3fa27",
            "_dom_classes": [],
            "description": "",
            "_model_name": "HTMLModel",
            "placeholder": "​",
            "_view_module": "@jupyter-widgets/controls",
            "_model_module_version": "1.5.0",
            "value": " 180309/180309 [00:07&lt;00:00, 24717.05it/s]",
            "_view_count": null,
            "_view_module_version": "1.5.0",
            "description_tooltip": null,
            "_model_module": "@jupyter-widgets/controls",
            "layout": "IPY_MODEL_13988c37ea8449d5833c0dcf5545a30a"
          }
        },
        "91646804d24e49c28740936f19914aa2": {
          "model_module": "@jupyter-widgets/controls",
          "model_name": "ProgressStyleModel",
          "state": {
            "_view_name": "StyleView",
            "_model_name": "ProgressStyleModel",
            "description_width": "initial",
            "_view_module": "@jupyter-widgets/base",
            "_model_module_version": "1.5.0",
            "_view_count": null,
            "_view_module_version": "1.2.0",
            "bar_color": null,
            "_model_module": "@jupyter-widgets/controls"
          }
        },
        "cc8883e3d0af452aa35416dd7b770a9f": {
          "model_module": "@jupyter-widgets/base",
          "model_name": "LayoutModel",
          "state": {
            "_view_name": "LayoutView",
            "grid_template_rows": null,
            "right": null,
            "justify_content": null,
            "_view_module": "@jupyter-widgets/base",
            "overflow": null,
            "_model_module_version": "1.2.0",
            "_view_count": null,
            "flex_flow": null,
            "width": null,
            "min_width": null,
            "border": null,
            "align_items": null,
            "bottom": null,
            "_model_module": "@jupyter-widgets/base",
            "top": null,
            "grid_column": null,
            "overflow_y": null,
            "overflow_x": null,
            "grid_auto_flow": null,
            "grid_area": null,
            "grid_template_columns": null,
            "flex": null,
            "_model_name": "LayoutModel",
            "justify_items": null,
            "grid_row": null,
            "max_height": null,
            "align_content": null,
            "visibility": null,
            "align_self": null,
            "height": null,
            "min_height": null,
            "padding": null,
            "grid_auto_rows": null,
            "grid_gap": null,
            "max_width": null,
            "order": null,
            "_view_module_version": "1.2.0",
            "grid_template_areas": null,
            "object_position": null,
            "object_fit": null,
            "grid_auto_columns": null,
            "margin": null,
            "display": null,
            "left": null
          }
        },
        "07d2118ed92b43fbb6de4c136ca3fa27": {
          "model_module": "@jupyter-widgets/controls",
          "model_name": "DescriptionStyleModel",
          "state": {
            "_view_name": "StyleView",
            "_model_name": "DescriptionStyleModel",
            "description_width": "",
            "_view_module": "@jupyter-widgets/base",
            "_model_module_version": "1.5.0",
            "_view_count": null,
            "_view_module_version": "1.2.0",
            "_model_module": "@jupyter-widgets/controls"
          }
        },
        "13988c37ea8449d5833c0dcf5545a30a": {
          "model_module": "@jupyter-widgets/base",
          "model_name": "LayoutModel",
          "state": {
            "_view_name": "LayoutView",
            "grid_template_rows": null,
            "right": null,
            "justify_content": null,
            "_view_module": "@jupyter-widgets/base",
            "overflow": null,
            "_model_module_version": "1.2.0",
            "_view_count": null,
            "flex_flow": null,
            "width": null,
            "min_width": null,
            "border": null,
            "align_items": null,
            "bottom": null,
            "_model_module": "@jupyter-widgets/base",
            "top": null,
            "grid_column": null,
            "overflow_y": null,
            "overflow_x": null,
            "grid_auto_flow": null,
            "grid_area": null,
            "grid_template_columns": null,
            "flex": null,
            "_model_name": "LayoutModel",
            "justify_items": null,
            "grid_row": null,
            "max_height": null,
            "align_content": null,
            "visibility": null,
            "align_self": null,
            "height": null,
            "min_height": null,
            "padding": null,
            "grid_auto_rows": null,
            "grid_gap": null,
            "max_width": null,
            "order": null,
            "_view_module_version": "1.2.0",
            "grid_template_areas": null,
            "object_position": null,
            "object_fit": null,
            "grid_auto_columns": null,
            "margin": null,
            "display": null,
            "left": null
          }
        }
      }
    }
  },
  "cells": [
    {
      "cell_type": "code",
      "metadata": {
        "id": "TSJ2-AownRg4"
      },
      "source": [
        "from tensorflow import keras\n",
        "import tensorflow as tf\n",
        "\n",
        "import numpy as np\n",
        "import matplotlib.pyplot as plt\n",
        "import pandas as pd\n",
        "import math\n",
        "\n",
        "from keras.models import Sequential\n",
        "from keras.layers import Dense\n",
        "from keras.layers import LSTM\n",
        "from keras.layers import Embedding\n",
        "from keras.models import load_model\n",
        "from keras.layers import SimpleRNN\n",
        "\n",
        "from sklearn.preprocessing import MinMaxScaler\n",
        "from sklearn.metrics import mean_squared_error\n",
        "\n",
        "import re\n",
        "import csv\n",
        "import tqdm.notebook as tq\n",
        "import glob\n",
        "import os"
      ],
      "execution_count": null,
      "outputs": []
    },
    {
      "cell_type": "markdown",
      "metadata": {
        "id": "2yICSnfhN9bp"
      },
      "source": [
        "## Read Dataset"
      ]
    },
    {
      "cell_type": "code",
      "metadata": {
        "id": "eNafhsc5PH-J"
      },
      "source": [
        "def read_file( file_name ):\n",
        "  print('reading' , file_name )\n",
        "  f =  open( file_name ,'r')\n",
        "  lines = f.readlines()\n",
        "  x = []\n",
        "  y = []\n",
        "  for line in tq.tqdm( lines ):\n",
        "    line = line.rstrip()\n",
        "    line = line.split(',')\n",
        "    y.append( int( line[0] ) )\n",
        "    x.append(  ' '.join( line[1:] )  )\n",
        "\n",
        "  #convert y to one hot vector\n",
        "\n",
        "  y = np.array(y,dtype = int)\n",
        "  b = np.zeros( ( y.size, y.max()+1)  )\n",
        "  b[np.arange(y.size),y] = 1\n",
        "  y = b\n",
        "  return x,y"
      ],
      "execution_count": null,
      "outputs": []
    },
    {
      "cell_type": "markdown",
      "metadata": {
        "id": "4c5yt3aXORHT"
      },
      "source": [
        "## Change Paths Accordingly"
      ]
    },
    {
      "cell_type": "code",
      "metadata": {
        "id": "M1aKL5aANlEG"
      },
      "source": [
        "current_dir = '/content/drive/My Drive/LSTM-deneme/'\n",
        "train_path = '/content/drive/My Drive/LSTM-deneme/train.csv'\n",
        "test_path  = '/content/drive/My Drive/LSTM-deneme/test.csv'"
      ],
      "execution_count": null,
      "outputs": []
    },
    {
      "cell_type": "code",
      "metadata": {
        "colab": {
          "base_uri": "https://localhost:8080/",
          "height": 153,
          "referenced_widgets": [
            "e8eae45d46094fe7b34f90923b83dcca",
            "7151b47b62984912947e114c5ee3ee6f",
            "45ac937d3ce84b68a79ef6fbd5392010",
            "500384cbcdaf4c1da926f981e8b9068e",
            "caacd469089642b6ae5c360773864f43",
            "a4b6bf34bd1942ce8416e76dfe5bc728",
            "5b7f91d4da4d4d58bd23a8ed2ef3e1c8",
            "ea6de2e66f5c4ea497e12194495ae93d",
            "945a2693937b42d9a14e5b4014000a6c",
            "c8e496fa2cae472581e69ebcce21de39",
            "6b3d04bc2f0d4c2181670b893922515f",
            "ff20e76aa8d742d789b1adfa1a25e179",
            "91646804d24e49c28740936f19914aa2",
            "cc8883e3d0af452aa35416dd7b770a9f",
            "07d2118ed92b43fbb6de4c136ca3fa27",
            "13988c37ea8449d5833c0dcf5545a30a"
          ]
        },
        "id": "n9tcAXa4OwqK",
        "outputId": "2d33c77b-4172-4c52-84a6-28c8150dd9a4"
      },
      "source": [
        "train_x, train_y = read_file( train_path )\n",
        "test_x, test_y  = read_file( test_path  )\n",
        "\n",
        "n_class = train_y.shape[1]"
      ],
      "execution_count": null,
      "outputs": [
        {
          "output_type": "stream",
          "text": [
            "reading /content/drive/My Drive/LSTM-deneme/train.csv\n"
          ],
          "name": "stdout"
        },
        {
          "output_type": "display_data",
          "data": {
            "application/vnd.jupyter.widget-view+json": {
              "model_id": "e8eae45d46094fe7b34f90923b83dcca",
              "version_minor": 0,
              "version_major": 2
            },
            "text/plain": [
              "HBox(children=(FloatProgress(value=0.0, max=574075.0), HTML(value='')))"
            ]
          },
          "metadata": {
            "tags": []
          }
        },
        {
          "output_type": "stream",
          "text": [
            "\n",
            "reading /content/drive/My Drive/LSTM-deneme/test.csv\n"
          ],
          "name": "stdout"
        },
        {
          "output_type": "display_data",
          "data": {
            "application/vnd.jupyter.widget-view+json": {
              "model_id": "945a2693937b42d9a14e5b4014000a6c",
              "version_minor": 0,
              "version_major": 2
            },
            "text/plain": [
              "HBox(children=(FloatProgress(value=0.0, max=180309.0), HTML(value='')))"
            ]
          },
          "metadata": {
            "tags": []
          }
        },
        {
          "output_type": "stream",
          "text": [
            "\n"
          ],
          "name": "stdout"
        }
      ]
    },
    {
      "cell_type": "markdown",
      "metadata": {
        "id": "MgOm1MOzuYoy"
      },
      "source": [
        "## Split Train and Validation Datasets"
      ]
    },
    {
      "cell_type": "code",
      "metadata": {
        "colab": {
          "base_uri": "https://localhost:8080/"
        },
        "id": "fIhIVEgOB81u",
        "outputId": "9727e94a-c727-476c-b233-9fc97e31230d"
      },
      "source": [
        "from google.colab import drive\n",
        "drive.mount('/content/drive')"
      ],
      "execution_count": null,
      "outputs": [
        {
          "output_type": "stream",
          "text": [
            "Drive already mounted at /content/drive; to attempt to forcibly remount, call drive.mount(\"/content/drive\", force_remount=True).\n"
          ],
          "name": "stdout"
        }
      ]
    },
    {
      "cell_type": "code",
      "metadata": {
        "id": "vS7Uu4pHuXo2"
      },
      "source": [
        "n_train = 500000\n",
        "\n",
        "val_x = train_x[ n_train: ]\n",
        "val_y = train_y[ n_train:, : ]\n",
        "\n",
        "train_x = train_x[ : n_train ]\n",
        "train_y = train_y[ : n_train, : ]"
      ],
      "execution_count": null,
      "outputs": []
    },
    {
      "cell_type": "markdown",
      "metadata": {
        "id": "pJyb5stfQb7a"
      },
      "source": [
        "## Preprocessing"
      ]
    },
    {
      "cell_type": "code",
      "metadata": {
        "id": "P7nBVxMstVVB"
      },
      "source": [
        "from keras.preprocessing.text import Tokenizer\n",
        "from keras.preprocessing.sequence import pad_sequences\n",
        "\n",
        "max_num_words = 10000\n",
        "\n",
        "# create the tokenizer\n",
        "t = Tokenizer( num_words = max_num_words )\n",
        "\n",
        "# fit the tokenizer on the documents\n",
        "t.fit_on_texts( train_x )\n",
        "\n",
        "train_x = t.texts_to_sequences( train_x )\n",
        "val_x   = t.texts_to_sequences( val_x )\n",
        "test_x  = t.texts_to_sequences( test_x )\n",
        "\n",
        "train_x = pad_sequences(  train_x )\n",
        "val_x = pad_sequences(  val_x )\n",
        "test_x = pad_sequences(  test_x )"
      ],
      "execution_count": null,
      "outputs": []
    },
    {
      "cell_type": "markdown",
      "metadata": {
        "id": "gJq8irHoRESQ"
      },
      "source": [
        "## Define Model\n"
      ]
    },
    {
      "cell_type": "code",
      "metadata": {
        "id": "fQC0twMQvxqy",
        "colab": {
          "base_uri": "https://localhost:8080/"
        },
        "outputId": "81dcbfdf-daf5-4aa3-a69a-70fec72c209d"
      },
      "source": [
        "embed_dim = 128\n",
        "lstm_out = 64\n",
        "batch_size = 1024\n",
        "lr = 0.01\n",
        "\n",
        "model = Sequential()\n",
        "model.add( Embedding( max_num_words, embed_dim, input_length = train_x.shape[1] ) )\n",
        "model.add( SimpleRNN( lstm_out ) )\n",
        "model.add( Dense( n_class ,activation='softmax') )\n",
        "\n",
        "opt = keras.optimizers.Adam( learning_rate=lr )\n",
        "model.compile( loss = 'categorical_crossentropy', optimizer=opt ,metrics = ['accuracy'] )\n",
        "print( model.summary() )"
      ],
      "execution_count": null,
      "outputs": [
        {
          "output_type": "stream",
          "text": [
            "Model: \"sequential_6\"\n",
            "_________________________________________________________________\n",
            "Layer (type)                 Output Shape              Param #   \n",
            "=================================================================\n",
            "embedding_6 (Embedding)      (None, 34, 128)           1280000   \n",
            "_________________________________________________________________\n",
            "simple_rnn_6 (SimpleRNN)     (None, 64)                12352     \n",
            "_________________________________________________________________\n",
            "dense_6 (Dense)              (None, 10)                650       \n",
            "=================================================================\n",
            "Total params: 1,293,002\n",
            "Trainable params: 1,293,002\n",
            "Non-trainable params: 0\n",
            "_________________________________________________________________\n",
            "None\n"
          ],
          "name": "stdout"
        }
      ]
    },
    {
      "cell_type": "markdown",
      "metadata": {
        "id": "d32PG3ZoTlr8"
      },
      "source": [
        "## Train Model !"
      ]
    },
    {
      "cell_type": "code",
      "metadata": {
        "colab": {
          "base_uri": "https://localhost:8080/"
        },
        "id": "gggiq0fqx3BO",
        "outputId": "0a01c7c0-a6e4-468d-9199-876bfad2cf4c"
      },
      "source": [
        "!rm -r rnn_best\n",
        "checkpoint_filepath = 'rnn_best'\n",
        "\n",
        "model_checkpoint_callback = tf.keras.callbacks.ModelCheckpoint(\n",
        "    filepath=checkpoint_filepath,\n",
        "    monitor='val_accuracy',\n",
        "    mode='max',\n",
        "    save_best_only=True)\n",
        "\n",
        "model.fit( train_x, train_y, shuffle = True ,epochs=10, batch_size = batch_size , verbose=1 ,callbacks=[model_checkpoint_callback], validation_data=( val_x, val_y ) )"
      ],
      "execution_count": null,
      "outputs": [
        {
          "output_type": "stream",
          "text": [
            "Epoch 1/10\n",
            "488/489 [============================>.] - ETA: 0s - loss: 1.3716 - accuracy: 0.4977WARNING:tensorflow:Model was constructed with shape (None, 34) for input KerasTensor(type_spec=TensorSpec(shape=(None, 34), dtype=tf.float32, name='embedding_6_input'), name='embedding_6_input', description=\"created by layer 'embedding_6_input'\"), but it was called on an input with incompatible shape (None, 32).\n",
            "489/489 [==============================] - 20s 39ms/step - loss: 1.3709 - accuracy: 0.4980 - val_loss: 1.0340 - val_accuracy: 0.6285\n",
            "INFO:tensorflow:Assets written to: rnn_best/assets\n",
            "Epoch 2/10\n",
            "489/489 [==============================] - 19s 39ms/step - loss: 0.9495 - accuracy: 0.6578 - val_loss: 1.0054 - val_accuracy: 0.6392\n",
            "INFO:tensorflow:Assets written to: rnn_best/assets\n",
            "Epoch 3/10\n",
            "489/489 [==============================] - 19s 38ms/step - loss: 0.8667 - accuracy: 0.6876 - val_loss: 1.0102 - val_accuracy: 0.6466\n",
            "INFO:tensorflow:Assets written to: rnn_best/assets\n",
            "Epoch 4/10\n",
            "489/489 [==============================] - 19s 39ms/step - loss: 0.8381 - accuracy: 0.6983 - val_loss: 1.0146 - val_accuracy: 0.6367\n",
            "Epoch 5/10\n",
            "489/489 [==============================] - 19s 39ms/step - loss: 0.8330 - accuracy: 0.6999 - val_loss: 1.0275 - val_accuracy: 0.6389\n",
            "Epoch 6/10\n",
            "489/489 [==============================] - 19s 39ms/step - loss: 0.8451 - accuracy: 0.6954 - val_loss: 1.0425 - val_accuracy: 0.6300\n",
            "Epoch 7/10\n",
            "489/489 [==============================] - 19s 38ms/step - loss: 0.8665 - accuracy: 0.6881 - val_loss: 1.0531 - val_accuracy: 0.6300\n",
            "Epoch 8/10\n",
            "489/489 [==============================] - 19s 39ms/step - loss: 0.9078 - accuracy: 0.6722 - val_loss: 1.0975 - val_accuracy: 0.6078\n",
            "Epoch 9/10\n",
            "489/489 [==============================] - 19s 38ms/step - loss: 0.9730 - accuracy: 0.6478 - val_loss: 1.1195 - val_accuracy: 0.6017\n",
            "Epoch 10/10\n",
            "489/489 [==============================] - 19s 38ms/step - loss: 1.0301 - accuracy: 0.6263 - val_loss: 1.1595 - val_accuracy: 0.5813\n"
          ],
          "name": "stdout"
        },
        {
          "output_type": "execute_result",
          "data": {
            "text/plain": [
              "<tensorflow.python.keras.callbacks.History at 0x7f344b909048>"
            ]
          },
          "metadata": {
            "tags": []
          },
          "execution_count": 60
        }
      ]
    },
    {
      "cell_type": "code",
      "metadata": {
        "id": "CBYtZ8SYMKQT"
      },
      "source": [
        "model = keras.models.load_model(\"rnn_best\")"
      ],
      "execution_count": null,
      "outputs": []
    },
    {
      "cell_type": "markdown",
      "metadata": {
        "id": "hjfINFSZvXDi"
      },
      "source": [
        "## Evalute Model"
      ]
    },
    {
      "cell_type": "code",
      "metadata": {
        "colab": {
          "base_uri": "https://localhost:8080/"
        },
        "id": "EKVcYj6uvWfo",
        "outputId": "f3ae176b-4345-475c-d1f1-27ddb8035f6e"
      },
      "source": [
        "results = model.evaluate( test_x, test_y, verbose = 1 )"
      ],
      "execution_count": null,
      "outputs": [
        {
          "output_type": "stream",
          "text": [
            "5635/5635 [==============================] - 27s 5ms/step - loss: 1.0272 - accuracy: 0.6394\n"
          ],
          "name": "stdout"
        }
      ]
    },
    {
      "cell_type": "code",
      "metadata": {
        "id": "bSZp7BzcMVKo"
      },
      "source": [
        ""
      ],
      "execution_count": null,
      "outputs": []
    }
  ]
}