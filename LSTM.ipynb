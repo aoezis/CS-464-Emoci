{
  "nbformat": 4,
  "nbformat_minor": 0,
  "metadata": {
    "accelerator": "GPU",
    "colab": {
      "name": "LSTM",
      "provenance": [],
      "collapsed_sections": [],
      "machine_shape": "hm"
    },
    "kernelspec": {
      "display_name": "Python 3",
      "name": "python3"
    },
    "widgets": {
      "application/vnd.jupyter.widget-state+json": {
        "b193df39eafc45ac99eb0ce4c04b2b6d": {
          "model_module": "@jupyter-widgets/controls",
          "model_name": "HBoxModel",
          "state": {
            "_view_name": "HBoxView",
            "_dom_classes": [],
            "_model_name": "HBoxModel",
            "_view_module": "@jupyter-widgets/controls",
            "_model_module_version": "1.5.0",
            "_view_count": null,
            "_view_module_version": "1.5.0",
            "box_style": "",
            "layout": "IPY_MODEL_3f874e40172b4ef4a508e5f2dea4799f",
            "_model_module": "@jupyter-widgets/controls",
            "children": [
              "IPY_MODEL_160bf0531d604171839cda4d63014b44",
              "IPY_MODEL_1ed433f1c14a4cb2b6a574997e35ed15"
            ]
          }
        },
        "3f874e40172b4ef4a508e5f2dea4799f": {
          "model_module": "@jupyter-widgets/base",
          "model_name": "LayoutModel",
          "state": {
            "_view_name": "LayoutView",
            "grid_template_rows": null,
            "right": null,
            "justify_content": null,
            "_view_module": "@jupyter-widgets/base",
            "overflow": null,
            "_model_module_version": "1.2.0",
            "_view_count": null,
            "flex_flow": null,
            "width": null,
            "min_width": null,
            "border": null,
            "align_items": null,
            "bottom": null,
            "_model_module": "@jupyter-widgets/base",
            "top": null,
            "grid_column": null,
            "overflow_y": null,
            "overflow_x": null,
            "grid_auto_flow": null,
            "grid_area": null,
            "grid_template_columns": null,
            "flex": null,
            "_model_name": "LayoutModel",
            "justify_items": null,
            "grid_row": null,
            "max_height": null,
            "align_content": null,
            "visibility": null,
            "align_self": null,
            "height": null,
            "min_height": null,
            "padding": null,
            "grid_auto_rows": null,
            "grid_gap": null,
            "max_width": null,
            "order": null,
            "_view_module_version": "1.2.0",
            "grid_template_areas": null,
            "object_position": null,
            "object_fit": null,
            "grid_auto_columns": null,
            "margin": null,
            "display": null,
            "left": null
          }
        },
        "160bf0531d604171839cda4d63014b44": {
          "model_module": "@jupyter-widgets/controls",
          "model_name": "FloatProgressModel",
          "state": {
            "_view_name": "ProgressView",
            "style": "IPY_MODEL_2568c042d1bb48af97f58839bc697931",
            "_dom_classes": [],
            "description": "100%",
            "_model_name": "FloatProgressModel",
            "bar_style": "success",
            "max": 574075,
            "_view_module": "@jupyter-widgets/controls",
            "_model_module_version": "1.5.0",
            "value": 574075,
            "_view_count": null,
            "_view_module_version": "1.5.0",
            "orientation": "horizontal",
            "min": 0,
            "description_tooltip": null,
            "_model_module": "@jupyter-widgets/controls",
            "layout": "IPY_MODEL_9ae2c2581ad44527bba352aed2cb1b59"
          }
        },
        "1ed433f1c14a4cb2b6a574997e35ed15": {
          "model_module": "@jupyter-widgets/controls",
          "model_name": "HTMLModel",
          "state": {
            "_view_name": "HTMLView",
            "style": "IPY_MODEL_99985666e3e94640a992f36f840bf843",
            "_dom_classes": [],
            "description": "",
            "_model_name": "HTMLModel",
            "placeholder": "​",
            "_view_module": "@jupyter-widgets/controls",
            "_model_module_version": "1.5.0",
            "value": " 574075/574075 [00:16&lt;00:00, 35096.13it/s]",
            "_view_count": null,
            "_view_module_version": "1.5.0",
            "description_tooltip": null,
            "_model_module": "@jupyter-widgets/controls",
            "layout": "IPY_MODEL_409528ed5ac14b83a64261b7251af106"
          }
        },
        "2568c042d1bb48af97f58839bc697931": {
          "model_module": "@jupyter-widgets/controls",
          "model_name": "ProgressStyleModel",
          "state": {
            "_view_name": "StyleView",
            "_model_name": "ProgressStyleModel",
            "description_width": "initial",
            "_view_module": "@jupyter-widgets/base",
            "_model_module_version": "1.5.0",
            "_view_count": null,
            "_view_module_version": "1.2.0",
            "bar_color": null,
            "_model_module": "@jupyter-widgets/controls"
          }
        },
        "9ae2c2581ad44527bba352aed2cb1b59": {
          "model_module": "@jupyter-widgets/base",
          "model_name": "LayoutModel",
          "state": {
            "_view_name": "LayoutView",
            "grid_template_rows": null,
            "right": null,
            "justify_content": null,
            "_view_module": "@jupyter-widgets/base",
            "overflow": null,
            "_model_module_version": "1.2.0",
            "_view_count": null,
            "flex_flow": null,
            "width": null,
            "min_width": null,
            "border": null,
            "align_items": null,
            "bottom": null,
            "_model_module": "@jupyter-widgets/base",
            "top": null,
            "grid_column": null,
            "overflow_y": null,
            "overflow_x": null,
            "grid_auto_flow": null,
            "grid_area": null,
            "grid_template_columns": null,
            "flex": null,
            "_model_name": "LayoutModel",
            "justify_items": null,
            "grid_row": null,
            "max_height": null,
            "align_content": null,
            "visibility": null,
            "align_self": null,
            "height": null,
            "min_height": null,
            "padding": null,
            "grid_auto_rows": null,
            "grid_gap": null,
            "max_width": null,
            "order": null,
            "_view_module_version": "1.2.0",
            "grid_template_areas": null,
            "object_position": null,
            "object_fit": null,
            "grid_auto_columns": null,
            "margin": null,
            "display": null,
            "left": null
          }
        },
        "99985666e3e94640a992f36f840bf843": {
          "model_module": "@jupyter-widgets/controls",
          "model_name": "DescriptionStyleModel",
          "state": {
            "_view_name": "StyleView",
            "_model_name": "DescriptionStyleModel",
            "description_width": "",
            "_view_module": "@jupyter-widgets/base",
            "_model_module_version": "1.5.0",
            "_view_count": null,
            "_view_module_version": "1.2.0",
            "_model_module": "@jupyter-widgets/controls"
          }
        },
        "409528ed5ac14b83a64261b7251af106": {
          "model_module": "@jupyter-widgets/base",
          "model_name": "LayoutModel",
          "state": {
            "_view_name": "LayoutView",
            "grid_template_rows": null,
            "right": null,
            "justify_content": null,
            "_view_module": "@jupyter-widgets/base",
            "overflow": null,
            "_model_module_version": "1.2.0",
            "_view_count": null,
            "flex_flow": null,
            "width": null,
            "min_width": null,
            "border": null,
            "align_items": null,
            "bottom": null,
            "_model_module": "@jupyter-widgets/base",
            "top": null,
            "grid_column": null,
            "overflow_y": null,
            "overflow_x": null,
            "grid_auto_flow": null,
            "grid_area": null,
            "grid_template_columns": null,
            "flex": null,
            "_model_name": "LayoutModel",
            "justify_items": null,
            "grid_row": null,
            "max_height": null,
            "align_content": null,
            "visibility": null,
            "align_self": null,
            "height": null,
            "min_height": null,
            "padding": null,
            "grid_auto_rows": null,
            "grid_gap": null,
            "max_width": null,
            "order": null,
            "_view_module_version": "1.2.0",
            "grid_template_areas": null,
            "object_position": null,
            "object_fit": null,
            "grid_auto_columns": null,
            "margin": null,
            "display": null,
            "left": null
          }
        },
        "408f1c30fb174b408285f3d3761ba9cc": {
          "model_module": "@jupyter-widgets/controls",
          "model_name": "HBoxModel",
          "state": {
            "_view_name": "HBoxView",
            "_dom_classes": [],
            "_model_name": "HBoxModel",
            "_view_module": "@jupyter-widgets/controls",
            "_model_module_version": "1.5.0",
            "_view_count": null,
            "_view_module_version": "1.5.0",
            "box_style": "",
            "layout": "IPY_MODEL_ed9a96a0a1b343b3bc3519e4c513f849",
            "_model_module": "@jupyter-widgets/controls",
            "children": [
              "IPY_MODEL_76b847cd53de4c6a985540ac035ad33a",
              "IPY_MODEL_ff385e087437421db1cc401a5ad0feaa"
            ]
          }
        },
        "ed9a96a0a1b343b3bc3519e4c513f849": {
          "model_module": "@jupyter-widgets/base",
          "model_name": "LayoutModel",
          "state": {
            "_view_name": "LayoutView",
            "grid_template_rows": null,
            "right": null,
            "justify_content": null,
            "_view_module": "@jupyter-widgets/base",
            "overflow": null,
            "_model_module_version": "1.2.0",
            "_view_count": null,
            "flex_flow": null,
            "width": null,
            "min_width": null,
            "border": null,
            "align_items": null,
            "bottom": null,
            "_model_module": "@jupyter-widgets/base",
            "top": null,
            "grid_column": null,
            "overflow_y": null,
            "overflow_x": null,
            "grid_auto_flow": null,
            "grid_area": null,
            "grid_template_columns": null,
            "flex": null,
            "_model_name": "LayoutModel",
            "justify_items": null,
            "grid_row": null,
            "max_height": null,
            "align_content": null,
            "visibility": null,
            "align_self": null,
            "height": null,
            "min_height": null,
            "padding": null,
            "grid_auto_rows": null,
            "grid_gap": null,
            "max_width": null,
            "order": null,
            "_view_module_version": "1.2.0",
            "grid_template_areas": null,
            "object_position": null,
            "object_fit": null,
            "grid_auto_columns": null,
            "margin": null,
            "display": null,
            "left": null
          }
        },
        "76b847cd53de4c6a985540ac035ad33a": {
          "model_module": "@jupyter-widgets/controls",
          "model_name": "FloatProgressModel",
          "state": {
            "_view_name": "ProgressView",
            "style": "IPY_MODEL_0706f1d4d75146ccbddbd56adca51572",
            "_dom_classes": [],
            "description": "100%",
            "_model_name": "FloatProgressModel",
            "bar_style": "success",
            "max": 180309,
            "_view_module": "@jupyter-widgets/controls",
            "_model_module_version": "1.5.0",
            "value": 180309,
            "_view_count": null,
            "_view_module_version": "1.5.0",
            "orientation": "horizontal",
            "min": 0,
            "description_tooltip": null,
            "_model_module": "@jupyter-widgets/controls",
            "layout": "IPY_MODEL_adc8f11a51904245b4e2acef4b6f3ce6"
          }
        },
        "ff385e087437421db1cc401a5ad0feaa": {
          "model_module": "@jupyter-widgets/controls",
          "model_name": "HTMLModel",
          "state": {
            "_view_name": "HTMLView",
            "style": "IPY_MODEL_d301e7f540064767837beab10ea28f3d",
            "_dom_classes": [],
            "description": "",
            "_model_name": "HTMLModel",
            "placeholder": "​",
            "_view_module": "@jupyter-widgets/controls",
            "_model_module_version": "1.5.0",
            "value": " 180309/180309 [00:13&lt;00:00, 13369.69it/s]",
            "_view_count": null,
            "_view_module_version": "1.5.0",
            "description_tooltip": null,
            "_model_module": "@jupyter-widgets/controls",
            "layout": "IPY_MODEL_6a7ac72d4fee454ba4839ebb61706919"
          }
        },
        "0706f1d4d75146ccbddbd56adca51572": {
          "model_module": "@jupyter-widgets/controls",
          "model_name": "ProgressStyleModel",
          "state": {
            "_view_name": "StyleView",
            "_model_name": "ProgressStyleModel",
            "description_width": "initial",
            "_view_module": "@jupyter-widgets/base",
            "_model_module_version": "1.5.0",
            "_view_count": null,
            "_view_module_version": "1.2.0",
            "bar_color": null,
            "_model_module": "@jupyter-widgets/controls"
          }
        },
        "adc8f11a51904245b4e2acef4b6f3ce6": {
          "model_module": "@jupyter-widgets/base",
          "model_name": "LayoutModel",
          "state": {
            "_view_name": "LayoutView",
            "grid_template_rows": null,
            "right": null,
            "justify_content": null,
            "_view_module": "@jupyter-widgets/base",
            "overflow": null,
            "_model_module_version": "1.2.0",
            "_view_count": null,
            "flex_flow": null,
            "width": null,
            "min_width": null,
            "border": null,
            "align_items": null,
            "bottom": null,
            "_model_module": "@jupyter-widgets/base",
            "top": null,
            "grid_column": null,
            "overflow_y": null,
            "overflow_x": null,
            "grid_auto_flow": null,
            "grid_area": null,
            "grid_template_columns": null,
            "flex": null,
            "_model_name": "LayoutModel",
            "justify_items": null,
            "grid_row": null,
            "max_height": null,
            "align_content": null,
            "visibility": null,
            "align_self": null,
            "height": null,
            "min_height": null,
            "padding": null,
            "grid_auto_rows": null,
            "grid_gap": null,
            "max_width": null,
            "order": null,
            "_view_module_version": "1.2.0",
            "grid_template_areas": null,
            "object_position": null,
            "object_fit": null,
            "grid_auto_columns": null,
            "margin": null,
            "display": null,
            "left": null
          }
        },
        "d301e7f540064767837beab10ea28f3d": {
          "model_module": "@jupyter-widgets/controls",
          "model_name": "DescriptionStyleModel",
          "state": {
            "_view_name": "StyleView",
            "_model_name": "DescriptionStyleModel",
            "description_width": "",
            "_view_module": "@jupyter-widgets/base",
            "_model_module_version": "1.5.0",
            "_view_count": null,
            "_view_module_version": "1.2.0",
            "_model_module": "@jupyter-widgets/controls"
          }
        },
        "6a7ac72d4fee454ba4839ebb61706919": {
          "model_module": "@jupyter-widgets/base",
          "model_name": "LayoutModel",
          "state": {
            "_view_name": "LayoutView",
            "grid_template_rows": null,
            "right": null,
            "justify_content": null,
            "_view_module": "@jupyter-widgets/base",
            "overflow": null,
            "_model_module_version": "1.2.0",
            "_view_count": null,
            "flex_flow": null,
            "width": null,
            "min_width": null,
            "border": null,
            "align_items": null,
            "bottom": null,
            "_model_module": "@jupyter-widgets/base",
            "top": null,
            "grid_column": null,
            "overflow_y": null,
            "overflow_x": null,
            "grid_auto_flow": null,
            "grid_area": null,
            "grid_template_columns": null,
            "flex": null,
            "_model_name": "LayoutModel",
            "justify_items": null,
            "grid_row": null,
            "max_height": null,
            "align_content": null,
            "visibility": null,
            "align_self": null,
            "height": null,
            "min_height": null,
            "padding": null,
            "grid_auto_rows": null,
            "grid_gap": null,
            "max_width": null,
            "order": null,
            "_view_module_version": "1.2.0",
            "grid_template_areas": null,
            "object_position": null,
            "object_fit": null,
            "grid_auto_columns": null,
            "margin": null,
            "display": null,
            "left": null
          }
        }
      }
    }
  },
  "cells": [
    {
      "cell_type": "code",
      "metadata": {
        "id": "TSJ2-AownRg4"
      },
      "source": [
        "from tensorflow import keras\n",
        "import tensorflow as tf\n",
        "\n",
        "import numpy as np\n",
        "import matplotlib.pyplot as plt\n",
        "import pandas as pd\n",
        "import math\n",
        "\n",
        "from keras.models import Sequential\n",
        "from keras.layers import Dense\n",
        "from keras.layers import LSTM\n",
        "from keras.layers import Embedding\n",
        "from keras.models import load_model\n",
        "\n",
        "from sklearn.preprocessing import MinMaxScaler\n",
        "from sklearn.metrics import mean_squared_error\n",
        "\n",
        "import re\n",
        "import csv\n",
        "import tqdm.notebook as tq\n",
        "import glob\n",
        "import os"
      ],
      "execution_count": 32,
      "outputs": []
    },
    {
      "cell_type": "markdown",
      "metadata": {
        "id": "2yICSnfhN9bp"
      },
      "source": [
        "## Read Dataset"
      ]
    },
    {
      "cell_type": "code",
      "metadata": {
        "id": "eNafhsc5PH-J"
      },
      "source": [
        "def read_file( file_name ):\n",
        "  print('reading' , file_name )\n",
        "  f =  open( file_name ,'r')\n",
        "  lines = f.readlines()\n",
        "  x = []\n",
        "  y = []\n",
        "  for line in tq.tqdm( lines ):\n",
        "    line = line.rstrip()\n",
        "    line = line.split(',')\n",
        "    y.append( int( line[0] ) )\n",
        "    x.append(  ' '.join( line[1:] )  )\n",
        "\n",
        "  #convert y to one hot vector\n",
        "\n",
        "  y = np.array(y,dtype = int)\n",
        "  b = np.zeros( ( y.size, y.max()+1)  )\n",
        "  b[np.arange(y.size),y] = 1\n",
        "  y = b\n",
        "  return x,y"
      ],
      "execution_count": 4,
      "outputs": []
    },
    {
      "cell_type": "markdown",
      "metadata": {
        "id": "4c5yt3aXORHT"
      },
      "source": [
        "## Change Paths Accordingly"
      ]
    },
    {
      "cell_type": "code",
      "metadata": {
        "id": "M1aKL5aANlEG"
      },
      "source": [
        "current_dir = '/content/drive/My Drive/LSTM-deneme/'\n",
        "\n",
        "train_path = '/content/drive/My Drive/LSTM-deneme/train.csv'\n",
        "test_path  = '/content/drive/My Drive/LSTM-deneme/test.csv'"
      ],
      "execution_count": 21,
      "outputs": []
    },
    {
      "cell_type": "code",
      "metadata": {
        "colab": {
          "base_uri": "https://localhost:8080/",
          "height": 153,
          "referenced_widgets": [
            "b193df39eafc45ac99eb0ce4c04b2b6d",
            "3f874e40172b4ef4a508e5f2dea4799f",
            "160bf0531d604171839cda4d63014b44",
            "1ed433f1c14a4cb2b6a574997e35ed15",
            "2568c042d1bb48af97f58839bc697931",
            "9ae2c2581ad44527bba352aed2cb1b59",
            "99985666e3e94640a992f36f840bf843",
            "409528ed5ac14b83a64261b7251af106",
            "408f1c30fb174b408285f3d3761ba9cc",
            "ed9a96a0a1b343b3bc3519e4c513f849",
            "76b847cd53de4c6a985540ac035ad33a",
            "ff385e087437421db1cc401a5ad0feaa",
            "0706f1d4d75146ccbddbd56adca51572",
            "adc8f11a51904245b4e2acef4b6f3ce6",
            "d301e7f540064767837beab10ea28f3d",
            "6a7ac72d4fee454ba4839ebb61706919"
          ]
        },
        "id": "n9tcAXa4OwqK",
        "outputId": "79e852fb-1912-4227-df5a-ec7444ff66ff"
      },
      "source": [
        "train_x, train_y = read_file( train_path )\n",
        "test_x, test_y  = read_file( test_path  )\n",
        "\n",
        "n_class = train_y.shape[1]"
      ],
      "execution_count": 6,
      "outputs": [
        {
          "output_type": "stream",
          "text": [
            "reading /content/drive/My Drive/LSTM-deneme/train.csv\n"
          ],
          "name": "stdout"
        },
        {
          "output_type": "display_data",
          "data": {
            "application/vnd.jupyter.widget-view+json": {
              "model_id": "b193df39eafc45ac99eb0ce4c04b2b6d",
              "version_minor": 0,
              "version_major": 2
            },
            "text/plain": [
              "HBox(children=(FloatProgress(value=0.0, max=574075.0), HTML(value='')))"
            ]
          },
          "metadata": {
            "tags": []
          }
        },
        {
          "output_type": "stream",
          "text": [
            "\n",
            "reading /content/drive/My Drive/LSTM-deneme/test.csv\n"
          ],
          "name": "stdout"
        },
        {
          "output_type": "display_data",
          "data": {
            "application/vnd.jupyter.widget-view+json": {
              "model_id": "408f1c30fb174b408285f3d3761ba9cc",
              "version_minor": 0,
              "version_major": 2
            },
            "text/plain": [
              "HBox(children=(FloatProgress(value=0.0, max=180309.0), HTML(value='')))"
            ]
          },
          "metadata": {
            "tags": []
          }
        },
        {
          "output_type": "stream",
          "text": [
            "\n"
          ],
          "name": "stdout"
        }
      ]
    },
    {
      "cell_type": "markdown",
      "metadata": {
        "id": "pJyb5stfQb7a"
      },
      "source": [
        "## Preprocessing"
      ]
    },
    {
      "cell_type": "code",
      "metadata": {
        "id": "P7nBVxMstVVB",
        "colab": {
          "base_uri": "https://localhost:8080/"
        },
        "outputId": "d2428550-50e5-4c80-fa55-7b4b16f4ff95"
      },
      "source": [
        "from keras.preprocessing.text import Tokenizer\n",
        "from keras.preprocessing.sequence import pad_sequences\n",
        "\n",
        "max_num_words = 500\n",
        "\n",
        "# create the tokenizer\n",
        "t = Tokenizer( num_words = max_num_words )\n",
        "\n",
        "# fit the tokenizer on the documents\n",
        "t.fit_on_texts( train_x )\n",
        "\n",
        "train_x = t.texts_to_matrix( train_x , mode='count')\n",
        "\n",
        "print( \"shape of x: \" , train_x.shape )\n",
        "#print(\"x0 : \" , x[0])\n",
        "print( train_y.shape )"
      ],
      "execution_count": 7,
      "outputs": [
        {
          "output_type": "stream",
          "text": [
            "shape of x:  (574075, 500)\n",
            "(574075, 10)\n"
          ],
          "name": "stdout"
        }
      ]
    },
    {
      "cell_type": "markdown",
      "metadata": {
        "id": "gJq8irHoRESQ"
      },
      "source": [
        "## Define Model"
      ]
    },
    {
      "cell_type": "code",
      "metadata": {
        "id": "fQC0twMQvxqy",
        "colab": {
          "base_uri": "https://localhost:8080/"
        },
        "outputId": "eeeffe1b-8ce4-436e-e2e7-08bcafb86f63"
      },
      "source": [
        "embed_dim = 128\n",
        "lstm_out = 128\n",
        "batch_size = 512\n",
        "lr = 0.001\n",
        "\n",
        "model = Sequential()\n",
        "model.add( Embedding( train_x.shape[1], embed_dim, input_length = train_x.shape[1] ) )\n",
        "model.add( LSTM( lstm_out ) )\n",
        "model.add( Dense( n_class ,activation='softmax') )\n",
        "\n",
        "opt = keras.optimizers.Adam(learning_rate=0.001)\n",
        "\n",
        "model.compile( loss = 'categorical_crossentropy', optimizer=opt ,metrics = ['accuracy'] )\n",
        "print( model.summary() )"
      ],
      "execution_count": 35,
      "outputs": [
        {
          "output_type": "stream",
          "text": [
            "Model: \"sequential_4\"\n",
            "_________________________________________________________________\n",
            "Layer (type)                 Output Shape              Param #   \n",
            "=================================================================\n",
            "embedding_2 (Embedding)      (None, 500, 128)          64000     \n",
            "_________________________________________________________________\n",
            "lstm_2 (LSTM)                (None, 128)               131584    \n",
            "_________________________________________________________________\n",
            "dense_2 (Dense)              (None, 10)                1290      \n",
            "=================================================================\n",
            "Total params: 196,874\n",
            "Trainable params: 196,874\n",
            "Non-trainable params: 0\n",
            "_________________________________________________________________\n",
            "None\n"
          ],
          "name": "stdout"
        }
      ]
    },
    {
      "cell_type": "markdown",
      "metadata": {
        "id": "FP3Um7tBR8iS"
      },
      "source": [
        "## Define Checkpoint"
      ]
    },
    {
      "cell_type": "code",
      "metadata": {
        "id": "vm4Qx5GkSFLH"
      },
      "source": [
        "experiments = glob.glob( current_dir + 'experiment*' )\n",
        "\n",
        "experiment_name = 'experiment-' + str( len(experiments) + 1 )\n",
        "\n",
        "if not os.path.exists( current_dir + experiment_name  ):\n",
        "    os.makedirs( current_dir + experiment_name )\n",
        "\n",
        "with open( current_dir + experiment_name + '/model.txt','w') as fh:\n",
        "    model.summary(print_fn=lambda x: fh.write(x + '\\n'))\n",
        "\n",
        "model_checkpoint_callback = tf.keras.callbacks.ModelCheckpoint( filepath = experiment_name + '/model.{epoch:02d}-{accuracy:.3f}' )"
      ],
      "execution_count": 36,
      "outputs": []
    },
    {
      "cell_type": "markdown",
      "metadata": {
        "id": "d32PG3ZoTlr8"
      },
      "source": [
        "## Train Model !"
      ]
    },
    {
      "cell_type": "code",
      "metadata": {
        "id": "gggiq0fqx3BO",
        "colab": {
          "base_uri": "https://localhost:8080/"
        },
        "outputId": "fc390c03-c27c-430c-bf1d-4c154be26b8e"
      },
      "source": [
        "model.fit( train_x, train_y, epochs=200, batch_size = batch_size , verbose=1, callbacks = [model_checkpoint_callback] )"
      ],
      "execution_count": null,
      "outputs": [
        {
          "output_type": "stream",
          "text": [
            "Epoch 1/200\n",
            "1122/1122 [==============================] - ETA: 0s - loss: 1.6986 - accuracy: 0.3711INFO:tensorflow:Assets written to: experiment-1/model.01-0.371/assets\n",
            "1122/1122 [==============================] - 142s 127ms/step - loss: 1.6986 - accuracy: 0.3711\n",
            "Epoch 2/200\n",
            "1122/1122 [==============================] - ETA: 0s - loss: 1.6917 - accuracy: 0.3714INFO:tensorflow:Assets written to: experiment-1/model.02-0.371/assets\n",
            "1122/1122 [==============================] - 142s 127ms/step - loss: 1.6917 - accuracy: 0.3714\n",
            "Epoch 3/200\n",
            "1122/1122 [==============================] - ETA: 0s - loss: 1.6737 - accuracy: 0.3714INFO:tensorflow:Assets written to: experiment-1/model.03-0.371/assets\n",
            "1122/1122 [==============================] - 143s 127ms/step - loss: 1.6737 - accuracy: 0.3714\n",
            "Epoch 4/200\n",
            "1122/1122 [==============================] - ETA: 0s - loss: 1.6401 - accuracy: 0.3747INFO:tensorflow:Assets written to: experiment-1/model.04-0.375/assets\n",
            "1122/1122 [==============================] - 143s 127ms/step - loss: 1.6401 - accuracy: 0.3747\n",
            "Epoch 5/200\n",
            "1122/1122 [==============================] - ETA: 0s - loss: 1.6889 - accuracy: 0.3721INFO:tensorflow:Assets written to: experiment-1/model.05-0.372/assets\n",
            "1122/1122 [==============================] - 143s 127ms/step - loss: 1.6889 - accuracy: 0.3721\n",
            "Epoch 6/200\n",
            "1122/1122 [==============================] - ETA: 0s - loss: 1.6829 - accuracy: 0.3728INFO:tensorflow:Assets written to: experiment-1/model.06-0.373/assets\n",
            "1122/1122 [==============================] - 143s 127ms/step - loss: 1.6829 - accuracy: 0.3728\n",
            "Epoch 7/200\n",
            "1122/1122 [==============================] - ETA: 0s - loss: 1.6664 - accuracy: 0.3749INFO:tensorflow:Assets written to: experiment-1/model.07-0.375/assets\n",
            "1122/1122 [==============================] - 142s 127ms/step - loss: 1.6664 - accuracy: 0.3749\n",
            "Epoch 8/200\n",
            "1122/1122 [==============================] - ETA: 0s - loss: 1.6416 - accuracy: 0.3794"
          ],
          "name": "stdout"
        }
      ]
    }
  ]
}