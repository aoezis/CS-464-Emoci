{
  "nbformat": 4,
  "nbformat_minor": 0,
  "metadata": {
    "accelerator": "GPU",
    "colab": {
      "name": "LSTM",
      "provenance": [],
      "collapsed_sections": [],
      "machine_shape": "hm"
    },
    "kernelspec": {
      "display_name": "Python 3",
      "name": "python3"
    },
    "widgets": {
      "application/vnd.jupyter.widget-state+json": {
        "0ea9aa8cc34e4a1dab0f5878d9303c37": {
          "model_module": "@jupyter-widgets/controls",
          "model_name": "HBoxModel",
          "state": {
            "_view_name": "HBoxView",
            "_dom_classes": [],
            "_model_name": "HBoxModel",
            "_view_module": "@jupyter-widgets/controls",
            "_model_module_version": "1.5.0",
            "_view_count": null,
            "_view_module_version": "1.5.0",
            "box_style": "",
            "layout": "IPY_MODEL_0e9b33b4f5b249be934ece38448e8225",
            "_model_module": "@jupyter-widgets/controls",
            "children": [
              "IPY_MODEL_3ea1369d5efd4da5a0529dd8d92bc039",
              "IPY_MODEL_ac8226cc0a6b4c89973836b69c9448f9"
            ]
          }
        },
        "0e9b33b4f5b249be934ece38448e8225": {
          "model_module": "@jupyter-widgets/base",
          "model_name": "LayoutModel",
          "state": {
            "_view_name": "LayoutView",
            "grid_template_rows": null,
            "right": null,
            "justify_content": null,
            "_view_module": "@jupyter-widgets/base",
            "overflow": null,
            "_model_module_version": "1.2.0",
            "_view_count": null,
            "flex_flow": null,
            "width": null,
            "min_width": null,
            "border": null,
            "align_items": null,
            "bottom": null,
            "_model_module": "@jupyter-widgets/base",
            "top": null,
            "grid_column": null,
            "overflow_y": null,
            "overflow_x": null,
            "grid_auto_flow": null,
            "grid_area": null,
            "grid_template_columns": null,
            "flex": null,
            "_model_name": "LayoutModel",
            "justify_items": null,
            "grid_row": null,
            "max_height": null,
            "align_content": null,
            "visibility": null,
            "align_self": null,
            "height": null,
            "min_height": null,
            "padding": null,
            "grid_auto_rows": null,
            "grid_gap": null,
            "max_width": null,
            "order": null,
            "_view_module_version": "1.2.0",
            "grid_template_areas": null,
            "object_position": null,
            "object_fit": null,
            "grid_auto_columns": null,
            "margin": null,
            "display": null,
            "left": null
          }
        },
        "3ea1369d5efd4da5a0529dd8d92bc039": {
          "model_module": "@jupyter-widgets/controls",
          "model_name": "FloatProgressModel",
          "state": {
            "_view_name": "ProgressView",
            "style": "IPY_MODEL_0389203ce4434cb69f23bc3c3294abef",
            "_dom_classes": [],
            "description": "100%",
            "_model_name": "FloatProgressModel",
            "bar_style": "success",
            "max": 574075,
            "_view_module": "@jupyter-widgets/controls",
            "_model_module_version": "1.5.0",
            "value": 574075,
            "_view_count": null,
            "_view_module_version": "1.5.0",
            "orientation": "horizontal",
            "min": 0,
            "description_tooltip": null,
            "_model_module": "@jupyter-widgets/controls",
            "layout": "IPY_MODEL_4828939d304b4dbeac18a85f6e51ffbb"
          }
        },
        "ac8226cc0a6b4c89973836b69c9448f9": {
          "model_module": "@jupyter-widgets/controls",
          "model_name": "HTMLModel",
          "state": {
            "_view_name": "HTMLView",
            "style": "IPY_MODEL_0d2b93a4dec74c3eb63d755ae3e4494a",
            "_dom_classes": [],
            "description": "",
            "_model_name": "HTMLModel",
            "placeholder": "​",
            "_view_module": "@jupyter-widgets/controls",
            "_model_module_version": "1.5.0",
            "value": " 574075/574075 [00:13&lt;00:00, 44024.86it/s]",
            "_view_count": null,
            "_view_module_version": "1.5.0",
            "description_tooltip": null,
            "_model_module": "@jupyter-widgets/controls",
            "layout": "IPY_MODEL_18ba375cfe51427b963033a4f12c150c"
          }
        },
        "0389203ce4434cb69f23bc3c3294abef": {
          "model_module": "@jupyter-widgets/controls",
          "model_name": "ProgressStyleModel",
          "state": {
            "_view_name": "StyleView",
            "_model_name": "ProgressStyleModel",
            "description_width": "initial",
            "_view_module": "@jupyter-widgets/base",
            "_model_module_version": "1.5.0",
            "_view_count": null,
            "_view_module_version": "1.2.0",
            "bar_color": null,
            "_model_module": "@jupyter-widgets/controls"
          }
        },
        "4828939d304b4dbeac18a85f6e51ffbb": {
          "model_module": "@jupyter-widgets/base",
          "model_name": "LayoutModel",
          "state": {
            "_view_name": "LayoutView",
            "grid_template_rows": null,
            "right": null,
            "justify_content": null,
            "_view_module": "@jupyter-widgets/base",
            "overflow": null,
            "_model_module_version": "1.2.0",
            "_view_count": null,
            "flex_flow": null,
            "width": null,
            "min_width": null,
            "border": null,
            "align_items": null,
            "bottom": null,
            "_model_module": "@jupyter-widgets/base",
            "top": null,
            "grid_column": null,
            "overflow_y": null,
            "overflow_x": null,
            "grid_auto_flow": null,
            "grid_area": null,
            "grid_template_columns": null,
            "flex": null,
            "_model_name": "LayoutModel",
            "justify_items": null,
            "grid_row": null,
            "max_height": null,
            "align_content": null,
            "visibility": null,
            "align_self": null,
            "height": null,
            "min_height": null,
            "padding": null,
            "grid_auto_rows": null,
            "grid_gap": null,
            "max_width": null,
            "order": null,
            "_view_module_version": "1.2.0",
            "grid_template_areas": null,
            "object_position": null,
            "object_fit": null,
            "grid_auto_columns": null,
            "margin": null,
            "display": null,
            "left": null
          }
        },
        "0d2b93a4dec74c3eb63d755ae3e4494a": {
          "model_module": "@jupyter-widgets/controls",
          "model_name": "DescriptionStyleModel",
          "state": {
            "_view_name": "StyleView",
            "_model_name": "DescriptionStyleModel",
            "description_width": "",
            "_view_module": "@jupyter-widgets/base",
            "_model_module_version": "1.5.0",
            "_view_count": null,
            "_view_module_version": "1.2.0",
            "_model_module": "@jupyter-widgets/controls"
          }
        },
        "18ba375cfe51427b963033a4f12c150c": {
          "model_module": "@jupyter-widgets/base",
          "model_name": "LayoutModel",
          "state": {
            "_view_name": "LayoutView",
            "grid_template_rows": null,
            "right": null,
            "justify_content": null,
            "_view_module": "@jupyter-widgets/base",
            "overflow": null,
            "_model_module_version": "1.2.0",
            "_view_count": null,
            "flex_flow": null,
            "width": null,
            "min_width": null,
            "border": null,
            "align_items": null,
            "bottom": null,
            "_model_module": "@jupyter-widgets/base",
            "top": null,
            "grid_column": null,
            "overflow_y": null,
            "overflow_x": null,
            "grid_auto_flow": null,
            "grid_area": null,
            "grid_template_columns": null,
            "flex": null,
            "_model_name": "LayoutModel",
            "justify_items": null,
            "grid_row": null,
            "max_height": null,
            "align_content": null,
            "visibility": null,
            "align_self": null,
            "height": null,
            "min_height": null,
            "padding": null,
            "grid_auto_rows": null,
            "grid_gap": null,
            "max_width": null,
            "order": null,
            "_view_module_version": "1.2.0",
            "grid_template_areas": null,
            "object_position": null,
            "object_fit": null,
            "grid_auto_columns": null,
            "margin": null,
            "display": null,
            "left": null
          }
        },
        "b4d0969624bf47b28a9c1ff9536828f0": {
          "model_module": "@jupyter-widgets/controls",
          "model_name": "HBoxModel",
          "state": {
            "_view_name": "HBoxView",
            "_dom_classes": [],
            "_model_name": "HBoxModel",
            "_view_module": "@jupyter-widgets/controls",
            "_model_module_version": "1.5.0",
            "_view_count": null,
            "_view_module_version": "1.5.0",
            "box_style": "",
            "layout": "IPY_MODEL_a28d627fc1e94d998ec77745127f8030",
            "_model_module": "@jupyter-widgets/controls",
            "children": [
              "IPY_MODEL_38c97cd90ade42118933110b819d2869",
              "IPY_MODEL_53dd149192984d618b3f5aa4c7ee6aed"
            ]
          }
        },
        "a28d627fc1e94d998ec77745127f8030": {
          "model_module": "@jupyter-widgets/base",
          "model_name": "LayoutModel",
          "state": {
            "_view_name": "LayoutView",
            "grid_template_rows": null,
            "right": null,
            "justify_content": null,
            "_view_module": "@jupyter-widgets/base",
            "overflow": null,
            "_model_module_version": "1.2.0",
            "_view_count": null,
            "flex_flow": null,
            "width": null,
            "min_width": null,
            "border": null,
            "align_items": null,
            "bottom": null,
            "_model_module": "@jupyter-widgets/base",
            "top": null,
            "grid_column": null,
            "overflow_y": null,
            "overflow_x": null,
            "grid_auto_flow": null,
            "grid_area": null,
            "grid_template_columns": null,
            "flex": null,
            "_model_name": "LayoutModel",
            "justify_items": null,
            "grid_row": null,
            "max_height": null,
            "align_content": null,
            "visibility": null,
            "align_self": null,
            "height": null,
            "min_height": null,
            "padding": null,
            "grid_auto_rows": null,
            "grid_gap": null,
            "max_width": null,
            "order": null,
            "_view_module_version": "1.2.0",
            "grid_template_areas": null,
            "object_position": null,
            "object_fit": null,
            "grid_auto_columns": null,
            "margin": null,
            "display": null,
            "left": null
          }
        },
        "38c97cd90ade42118933110b819d2869": {
          "model_module": "@jupyter-widgets/controls",
          "model_name": "FloatProgressModel",
          "state": {
            "_view_name": "ProgressView",
            "style": "IPY_MODEL_d6a81ce87a324a48ad3ce7ae80d0dde7",
            "_dom_classes": [],
            "description": "100%",
            "_model_name": "FloatProgressModel",
            "bar_style": "success",
            "max": 180309,
            "_view_module": "@jupyter-widgets/controls",
            "_model_module_version": "1.5.0",
            "value": 180309,
            "_view_count": null,
            "_view_module_version": "1.5.0",
            "orientation": "horizontal",
            "min": 0,
            "description_tooltip": null,
            "_model_module": "@jupyter-widgets/controls",
            "layout": "IPY_MODEL_251e9bf1b7fb499487177068b660f341"
          }
        },
        "53dd149192984d618b3f5aa4c7ee6aed": {
          "model_module": "@jupyter-widgets/controls",
          "model_name": "HTMLModel",
          "state": {
            "_view_name": "HTMLView",
            "style": "IPY_MODEL_642f5b371f6846baa7987009591b6f84",
            "_dom_classes": [],
            "description": "",
            "_model_name": "HTMLModel",
            "placeholder": "​",
            "_view_module": "@jupyter-widgets/controls",
            "_model_module_version": "1.5.0",
            "value": " 180309/180309 [00:11&lt;00:00, 15392.56it/s]",
            "_view_count": null,
            "_view_module_version": "1.5.0",
            "description_tooltip": null,
            "_model_module": "@jupyter-widgets/controls",
            "layout": "IPY_MODEL_9af0144abcce42c9a5986eff556edeab"
          }
        },
        "d6a81ce87a324a48ad3ce7ae80d0dde7": {
          "model_module": "@jupyter-widgets/controls",
          "model_name": "ProgressStyleModel",
          "state": {
            "_view_name": "StyleView",
            "_model_name": "ProgressStyleModel",
            "description_width": "initial",
            "_view_module": "@jupyter-widgets/base",
            "_model_module_version": "1.5.0",
            "_view_count": null,
            "_view_module_version": "1.2.0",
            "bar_color": null,
            "_model_module": "@jupyter-widgets/controls"
          }
        },
        "251e9bf1b7fb499487177068b660f341": {
          "model_module": "@jupyter-widgets/base",
          "model_name": "LayoutModel",
          "state": {
            "_view_name": "LayoutView",
            "grid_template_rows": null,
            "right": null,
            "justify_content": null,
            "_view_module": "@jupyter-widgets/base",
            "overflow": null,
            "_model_module_version": "1.2.0",
            "_view_count": null,
            "flex_flow": null,
            "width": null,
            "min_width": null,
            "border": null,
            "align_items": null,
            "bottom": null,
            "_model_module": "@jupyter-widgets/base",
            "top": null,
            "grid_column": null,
            "overflow_y": null,
            "overflow_x": null,
            "grid_auto_flow": null,
            "grid_area": null,
            "grid_template_columns": null,
            "flex": null,
            "_model_name": "LayoutModel",
            "justify_items": null,
            "grid_row": null,
            "max_height": null,
            "align_content": null,
            "visibility": null,
            "align_self": null,
            "height": null,
            "min_height": null,
            "padding": null,
            "grid_auto_rows": null,
            "grid_gap": null,
            "max_width": null,
            "order": null,
            "_view_module_version": "1.2.0",
            "grid_template_areas": null,
            "object_position": null,
            "object_fit": null,
            "grid_auto_columns": null,
            "margin": null,
            "display": null,
            "left": null
          }
        },
        "642f5b371f6846baa7987009591b6f84": {
          "model_module": "@jupyter-widgets/controls",
          "model_name": "DescriptionStyleModel",
          "state": {
            "_view_name": "StyleView",
            "_model_name": "DescriptionStyleModel",
            "description_width": "",
            "_view_module": "@jupyter-widgets/base",
            "_model_module_version": "1.5.0",
            "_view_count": null,
            "_view_module_version": "1.2.0",
            "_model_module": "@jupyter-widgets/controls"
          }
        },
        "9af0144abcce42c9a5986eff556edeab": {
          "model_module": "@jupyter-widgets/base",
          "model_name": "LayoutModel",
          "state": {
            "_view_name": "LayoutView",
            "grid_template_rows": null,
            "right": null,
            "justify_content": null,
            "_view_module": "@jupyter-widgets/base",
            "overflow": null,
            "_model_module_version": "1.2.0",
            "_view_count": null,
            "flex_flow": null,
            "width": null,
            "min_width": null,
            "border": null,
            "align_items": null,
            "bottom": null,
            "_model_module": "@jupyter-widgets/base",
            "top": null,
            "grid_column": null,
            "overflow_y": null,
            "overflow_x": null,
            "grid_auto_flow": null,
            "grid_area": null,
            "grid_template_columns": null,
            "flex": null,
            "_model_name": "LayoutModel",
            "justify_items": null,
            "grid_row": null,
            "max_height": null,
            "align_content": null,
            "visibility": null,
            "align_self": null,
            "height": null,
            "min_height": null,
            "padding": null,
            "grid_auto_rows": null,
            "grid_gap": null,
            "max_width": null,
            "order": null,
            "_view_module_version": "1.2.0",
            "grid_template_areas": null,
            "object_position": null,
            "object_fit": null,
            "grid_auto_columns": null,
            "margin": null,
            "display": null,
            "left": null
          }
        }
      }
    }
  },
  "cells": [
    {
      "cell_type": "code",
      "metadata": {
        "id": "TSJ2-AownRg4"
      },
      "source": [
        "from tensorflow import keras\n",
        "import tensorflow as tf\n",
        "\n",
        "import numpy as np\n",
        "import matplotlib.pyplot as plt\n",
        "import pandas as pd\n",
        "import math\n",
        "\n",
        "from keras.models import Sequential\n",
        "from keras.layers import Dense\n",
        "from keras.layers import LSTM\n",
        "from keras.layers import Embedding\n",
        "from keras.models import load_model\n",
        "\n",
        "from sklearn.preprocessing import MinMaxScaler\n",
        "from sklearn.metrics import mean_squared_error\n",
        "\n",
        "import re\n",
        "import csv\n",
        "import tqdm.notebook as tq\n",
        "import glob\n",
        "import os"
      ],
      "execution_count": 32,
      "outputs": []
    },
    {
      "cell_type": "markdown",
      "metadata": {
        "id": "2yICSnfhN9bp"
      },
      "source": [
        "## Read Dataset"
      ]
    },
    {
      "cell_type": "code",
      "metadata": {
        "id": "eNafhsc5PH-J"
      },
      "source": [
        "def read_file( file_name ):\n",
        "  print('reading' , file_name )\n",
        "  f =  open( file_name ,'r')\n",
        "  lines = f.readlines()\n",
        "  x = []\n",
        "  y = []\n",
        "  for line in tq.tqdm( lines ):\n",
        "    line = line.rstrip()\n",
        "    line = line.split(',')\n",
        "    y.append( int( line[0] ) )\n",
        "    x.append(  ' '.join( line[1:] )  )\n",
        "\n",
        "  #convert y to one hot vector\n",
        "\n",
        "  y = np.array(y,dtype = int)\n",
        "  b = np.zeros( ( y.size, y.max()+1)  )\n",
        "  b[np.arange(y.size),y] = 1\n",
        "  y = b\n",
        "  return x,y"
      ],
      "execution_count": 4,
      "outputs": []
    },
    {
      "cell_type": "markdown",
      "metadata": {
        "id": "4c5yt3aXORHT"
      },
      "source": [
        "## Change Paths Accordingly"
      ]
    },
    {
      "cell_type": "code",
      "metadata": {
        "id": "M1aKL5aANlEG"
      },
      "source": [
        "current_dir = '/content/drive/My Drive/LSTM-deneme/'\n",
        "\n",
        "train_path = '/content/drive/My Drive/LSTM-deneme/train.csv'\n",
        "test_path  = '/content/drive/My Drive/LSTM-deneme/test.csv'"
      ],
      "execution_count": 91,
      "outputs": []
    },
    {
      "cell_type": "code",
      "metadata": {
        "colab": {
          "base_uri": "https://localhost:8080/",
          "height": 153,
          "referenced_widgets": [
            "0ea9aa8cc34e4a1dab0f5878d9303c37",
            "0e9b33b4f5b249be934ece38448e8225",
            "3ea1369d5efd4da5a0529dd8d92bc039",
            "ac8226cc0a6b4c89973836b69c9448f9",
            "0389203ce4434cb69f23bc3c3294abef",
            "4828939d304b4dbeac18a85f6e51ffbb",
            "0d2b93a4dec74c3eb63d755ae3e4494a",
            "18ba375cfe51427b963033a4f12c150c",
            "b4d0969624bf47b28a9c1ff9536828f0",
            "a28d627fc1e94d998ec77745127f8030",
            "38c97cd90ade42118933110b819d2869",
            "53dd149192984d618b3f5aa4c7ee6aed",
            "d6a81ce87a324a48ad3ce7ae80d0dde7",
            "251e9bf1b7fb499487177068b660f341",
            "642f5b371f6846baa7987009591b6f84",
            "9af0144abcce42c9a5986eff556edeab"
          ]
        },
        "id": "n9tcAXa4OwqK",
        "outputId": "92b34c16-fa28-4999-ac49-e4abe0663d16"
      },
      "source": [
        "train_x, train_y = read_file( train_path )\n",
        "test_x, test_y  = read_file( test_path  )\n",
        "\n",
        "n_class = train_y.shape[1]"
      ],
      "execution_count": 103,
      "outputs": [
        {
          "output_type": "stream",
          "text": [
            "reading /content/drive/My Drive/LSTM-deneme/train.csv\n"
          ],
          "name": "stdout"
        },
        {
          "output_type": "display_data",
          "data": {
            "application/vnd.jupyter.widget-view+json": {
              "model_id": "0ea9aa8cc34e4a1dab0f5878d9303c37",
              "version_minor": 0,
              "version_major": 2
            },
            "text/plain": [
              "HBox(children=(FloatProgress(value=0.0, max=574075.0), HTML(value='')))"
            ]
          },
          "metadata": {
            "tags": []
          }
        },
        {
          "output_type": "stream",
          "text": [
            "\n",
            "reading /content/drive/My Drive/LSTM-deneme/test.csv\n"
          ],
          "name": "stdout"
        },
        {
          "output_type": "display_data",
          "data": {
            "application/vnd.jupyter.widget-view+json": {
              "model_id": "b4d0969624bf47b28a9c1ff9536828f0",
              "version_minor": 0,
              "version_major": 2
            },
            "text/plain": [
              "HBox(children=(FloatProgress(value=0.0, max=180309.0), HTML(value='')))"
            ]
          },
          "metadata": {
            "tags": []
          }
        },
        {
          "output_type": "stream",
          "text": [
            "\n"
          ],
          "name": "stdout"
        }
      ]
    },
    {
      "cell_type": "markdown",
      "metadata": {
        "id": "MgOm1MOzuYoy"
      },
      "source": [
        "## Split Train and Validation Datasets"
      ]
    },
    {
      "cell_type": "code",
      "metadata": {
        "id": "vS7Uu4pHuXo2"
      },
      "source": [
        "n_train = 500000\n",
        "\n",
        "val_x = train_x[ n_train: ]\n",
        "val_y = train_y[ n_train:, : ]\n",
        "\n",
        "train_x = train_x[ : n_train ]\n",
        "train_y = train_y[ : n_train, : ]\n"
      ],
      "execution_count": 104,
      "outputs": []
    },
    {
      "cell_type": "markdown",
      "metadata": {
        "id": "pJyb5stfQb7a"
      },
      "source": [
        "## Preprocessing"
      ]
    },
    {
      "cell_type": "code",
      "metadata": {
        "id": "P7nBVxMstVVB",
        "colab": {
          "base_uri": "https://localhost:8080/"
        },
        "outputId": "f500f0d2-b996-4c73-9f4c-ec6688a9306d"
      },
      "source": [
        "from keras.preprocessing.text import Tokenizer\n",
        "from keras.preprocessing.sequence import pad_sequences\n",
        "\n",
        "max_num_words = 50\n",
        "\n",
        "# create the tokenizer\n",
        "t = Tokenizer( num_words = max_num_words )\n",
        "\n",
        "# fit the tokenizer on the documents\n",
        "t.fit_on_texts( train_x )\n",
        "\n",
        "train_x = t.texts_to_matrix( train_x , mode='count')\n",
        "val_x   = t.texts_to_matrix( val_x , mode='count' )\n",
        "test_x  = t.texts_to_matrix( test_x, mode='count' )\n",
        "\n",
        "print( \"shape of x: \" , train_x.shape )\n",
        "#print(\"x0 : \" , x[0])\n",
        "print( train_y.shape )"
      ],
      "execution_count": 105,
      "outputs": [
        {
          "output_type": "stream",
          "text": [
            "shape of x:  (500000, 50)\n",
            "(500000, 10)\n"
          ],
          "name": "stdout"
        }
      ]
    },
    {
      "cell_type": "markdown",
      "metadata": {
        "id": "gJq8irHoRESQ"
      },
      "source": [
        "## Define Model\n"
      ]
    },
    {
      "cell_type": "code",
      "metadata": {
        "id": "fQC0twMQvxqy",
        "colab": {
          "base_uri": "https://localhost:8080/"
        },
        "outputId": "6267a2d9-f376-4e14-ee79-d0506a1a19d0"
      },
      "source": [
        "embed_dim = 128\n",
        "lstm_out = 64\n",
        "batch_size = 512\n",
        "lr = 0.001\n",
        "\n",
        "model = Sequential()\n",
        "model.add( Embedding( train_x.shape[1], embed_dim, input_length = train_x.shape[1] ) )\n",
        "model.add( LSTM( lstm_out ) )\n",
        "model.add( Dense( n_class ,activation='softmax') )\n",
        "\n",
        "opt = keras.optimizers.Adam(learning_rate=0.001)\n",
        "\n",
        "model.compile( loss = 'categorical_crossentropy', optimizer=opt ,metrics = ['accuracy'] )\n",
        "print( model.summary() )"
      ],
      "execution_count": 114,
      "outputs": [
        {
          "output_type": "stream",
          "text": [
            "Model: \"sequential_14\"\n",
            "_________________________________________________________________\n",
            "Layer (type)                 Output Shape              Param #   \n",
            "=================================================================\n",
            "embedding_12 (Embedding)     (None, 50, 128)           6400      \n",
            "_________________________________________________________________\n",
            "lstm_12 (LSTM)               (None, 64)                49408     \n",
            "_________________________________________________________________\n",
            "dense_12 (Dense)             (None, 10)                650       \n",
            "=================================================================\n",
            "Total params: 56,458\n",
            "Trainable params: 56,458\n",
            "Non-trainable params: 0\n",
            "_________________________________________________________________\n",
            "None\n"
          ],
          "name": "stdout"
        }
      ]
    },
    {
      "cell_type": "markdown",
      "metadata": {
        "id": "FP3Um7tBR8iS"
      },
      "source": [
        "## Define Checkpoint"
      ]
    },
    {
      "cell_type": "code",
      "metadata": {
        "id": "vm4Qx5GkSFLH"
      },
      "source": [
        "experiments = glob.glob( current_dir + 'experiment*' )\n",
        "\n",
        "experiment_name = 'experiment-' + str( len(experiments) + 1 )\n",
        "\n",
        "if not os.path.exists( current_dir + experiment_name  ):\n",
        "    os.makedirs( current_dir + experiment_name )\n",
        "\n",
        "with open( current_dir + experiment_name + '/model.txt','w') as fh:\n",
        "    model.summary(print_fn=lambda x: fh.write(x + '\\n'))\n",
        "\n",
        "model_checkpoint_callback = tf.keras.callbacks.ModelCheckpoint( filepath = current_dir + experiment_name + '/model.{epoch:02d}-acc:{accuracy:.3f}' )"
      ],
      "execution_count": 115,
      "outputs": []
    },
    {
      "cell_type": "markdown",
      "metadata": {
        "id": "d32PG3ZoTlr8"
      },
      "source": [
        "## Train Model !"
      ]
    },
    {
      "cell_type": "code",
      "metadata": {
        "id": "gggiq0fqx3BO",
        "colab": {
          "base_uri": "https://localhost:8080/"
        },
        "outputId": "c46ae42a-0a26-4659-cec3-ee62d1fbee10"
      },
      "source": [
        "model.fit( train_x, train_y, shuffle = True ,epochs=10, batch_size = batch_size , verbose=1, callbacks = [model_checkpoint_callback] , validation_data=( val_x, val_y ) )"
      ],
      "execution_count": 117,
      "outputs": [
        {
          "output_type": "stream",
          "text": [
            "Epoch 1/10\n",
            "975/977 [============================>.] - ETA: 0s - loss: 1.6417 - accuracy: 0.3781INFO:tensorflow:Assets written to: /content/drive/My Drive/LSTM-deneme/experiment-5/model.01-acc:0.378/assets\n",
            "977/977 [==============================] - 17s 17ms/step - loss: 1.6417 - accuracy: 0.3781 - val_loss: 1.6314 - val_accuracy: 0.3815\n",
            "Epoch 2/10\n",
            "973/977 [============================>.] - ETA: 0s - loss: 1.6298 - accuracy: 0.3809INFO:tensorflow:Assets written to: /content/drive/My Drive/LSTM-deneme/experiment-5/model.02-acc:0.381/assets\n",
            "977/977 [==============================] - 17s 17ms/step - loss: 1.6297 - accuracy: 0.3810 - val_loss: 1.6219 - val_accuracy: 0.3853\n",
            "Epoch 3/10\n",
            "977/977 [==============================] - ETA: 0s - loss: 1.6141 - accuracy: 0.3839INFO:tensorflow:Assets written to: /content/drive/My Drive/LSTM-deneme/experiment-5/model.03-acc:0.384/assets\n",
            "977/977 [==============================] - 17s 17ms/step - loss: 1.6141 - accuracy: 0.3839 - val_loss: 1.6037 - val_accuracy: 0.3885\n",
            "Epoch 4/10\n",
            "976/977 [============================>.] - ETA: 0s - loss: 1.6026 - accuracy: 0.3880INFO:tensorflow:Assets written to: /content/drive/My Drive/LSTM-deneme/experiment-5/model.04-acc:0.388/assets\n",
            "977/977 [==============================] - 18s 18ms/step - loss: 1.6026 - accuracy: 0.3880 - val_loss: 1.5935 - val_accuracy: 0.3923\n",
            "Epoch 5/10\n",
            "973/977 [============================>.] - ETA: 0s - loss: 1.5928 - accuracy: 0.3918INFO:tensorflow:Assets written to: /content/drive/My Drive/LSTM-deneme/experiment-5/model.05-acc:0.392/assets\n",
            "977/977 [==============================] - 17s 17ms/step - loss: 1.5929 - accuracy: 0.3918 - val_loss: 1.5891 - val_accuracy: 0.3931\n",
            "Epoch 6/10\n",
            "976/977 [============================>.] - ETA: 0s - loss: 1.5843 - accuracy: 0.3947INFO:tensorflow:Assets written to: /content/drive/My Drive/LSTM-deneme/experiment-5/model.06-acc:0.395/assets\n",
            "977/977 [==============================] - 16s 17ms/step - loss: 1.5843 - accuracy: 0.3947 - val_loss: 1.5821 - val_accuracy: 0.3917\n",
            "Epoch 7/10\n",
            "974/977 [============================>.] - ETA: 0s - loss: 1.5756 - accuracy: 0.3982INFO:tensorflow:Assets written to: /content/drive/My Drive/LSTM-deneme/experiment-5/model.07-acc:0.398/assets\n",
            "977/977 [==============================] - 17s 17ms/step - loss: 1.5756 - accuracy: 0.3983 - val_loss: 1.5699 - val_accuracy: 0.4046\n",
            "Epoch 8/10\n",
            "975/977 [============================>.] - ETA: 0s - loss: 1.5662 - accuracy: 0.4045INFO:tensorflow:Assets written to: /content/drive/My Drive/LSTM-deneme/experiment-5/model.08-acc:0.404/assets\n",
            "977/977 [==============================] - 16s 17ms/step - loss: 1.5662 - accuracy: 0.4045 - val_loss: 1.5624 - val_accuracy: 0.4048\n",
            "Epoch 9/10\n",
            "976/977 [============================>.] - ETA: 0s - loss: 1.5580 - accuracy: 0.4094INFO:tensorflow:Assets written to: /content/drive/My Drive/LSTM-deneme/experiment-5/model.09-acc:0.409/assets\n",
            "977/977 [==============================] - 17s 17ms/step - loss: 1.5580 - accuracy: 0.4094 - val_loss: 1.5539 - val_accuracy: 0.4109\n",
            "Epoch 10/10\n",
            "974/977 [============================>.] - ETA: 0s - loss: 1.5502 - accuracy: 0.4133INFO:tensorflow:Assets written to: /content/drive/My Drive/LSTM-deneme/experiment-5/model.10-acc:0.413/assets\n",
            "977/977 [==============================] - 16s 17ms/step - loss: 1.5501 - accuracy: 0.4133 - val_loss: 1.5461 - val_accuracy: 0.4143\n"
          ],
          "name": "stdout"
        },
        {
          "output_type": "execute_result",
          "data": {
            "text/plain": [
              "<tensorflow.python.keras.callbacks.History at 0x7f352c3f0588>"
            ]
          },
          "metadata": {
            "tags": []
          },
          "execution_count": 117
        }
      ]
    },
    {
      "cell_type": "markdown",
      "metadata": {
        "id": "hjfINFSZvXDi"
      },
      "source": [
        "## Evalute Model"
      ]
    },
    {
      "cell_type": "code",
      "metadata": {
        "colab": {
          "base_uri": "https://localhost:8080/"
        },
        "id": "EKVcYj6uvWfo",
        "outputId": "b1142db6-8574-4c2d-c6cf-3de88d5675dd"
      },
      "source": [
        "results = model.evaluate( test_x, test_y, batch_size=batch_size, verbose = 1 )"
      ],
      "execution_count": 118,
      "outputs": [
        {
          "output_type": "stream",
          "text": [
            "353/353 [==============================] - 2s 6ms/step - loss: 1.5609 - accuracy: 0.4088\n"
          ],
          "name": "stdout"
        }
      ]
    }
  ]
}